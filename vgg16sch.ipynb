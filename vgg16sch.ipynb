{
  "nbformat": 4,
  "nbformat_minor": 0,
  "metadata": {
    "colab": {
      "provenance": []
    },
    "kernelspec": {
      "name": "python3",
      "display_name": "Python 3"
    },
    "language_info": {
      "name": "python"
    },
    "accelerator": "GPU"
  },
  "cells": [
    {
      "cell_type": "code",
      "execution_count": null,
      "metadata": {
        "id": "Dy0CSDWbmysh"
      },
      "outputs": [],
      "source": [
        "import os\n",
        "import keras\n",
        "import numpy as np\n",
        "import pandas as pd\n",
        "import cv2\n",
        "import tensorflow\n",
        "from keras.layers import Input, Dense, Flatten, Conv2D, MaxPool2D, ZeroPadding2D\n",
        "from sklearn.preprocessing import LabelEncoder , OneHotEncoder\n",
        "from sklearn.utils import shuffle\n",
        "from sklearn.model_selection import train_test_split\n",
        "from tensorflow.keras.utils import to_categorical\n",
        "import matplotlib.pyplot as plt"
      ]
    },
    {
      "cell_type": "code",
      "source": [
        "dataset_path = os.listdir('/content/drive/MyDrive/schzrinopiadata')\n",
        "emotion_types = os.listdir('/content/drive/MyDrive/schzrinopiadata')\n",
        "print (emotion_types)  #what kinds of emotions are in this dataset\n",
        "\n",
        "print(\"Types of emotions found: \", len(dataset_path))"
      ],
      "metadata": {
        "colab": {
          "base_uri": "https://localhost:8080/"
        },
        "id": "CcI6oMjQnSNl",
        "outputId": "66553b75-abc0-4f1a-9518-cf42df246ad0"
      },
      "execution_count": null,
      "outputs": [
        {
          "output_type": "stream",
          "name": "stdout",
          "text": [
            "['healthy', 'schzrinopia']\n",
            "Types of emotions found:  2\n"
          ]
        }
      ]
    },
    {
      "cell_type": "code",
      "source": [
        "emotions = []\n",
        "\n",
        "for item in emotion_types:\n",
        " # Get all the file names\n",
        " all_emotions = os.listdir('/content/drive/MyDrive/schzrinopiadata' + '/' +item)\n",
        " #print(all_emotion)\n",
        "\n",
        " # Add them to the list\n",
        " for emotion in all_emotions:\n",
        "    emotions.append((item, str('emotions_dataset' + '/' +item) + '/' + emotion))\n",
        "    print(emotions)"
      ],
      "metadata": {
        "colab": {
          "base_uri": "https://localhost:8080/"
        },
        "id": "ntq6ogvYnVnV",
        "outputId": "e6456373-2901-4a92-d80f-9e11e7eae960"
      },
      "execution_count": null,
      "outputs": [
        {
          "output_type": "stream",
          "name": "stderr",
          "text": [
            "IOPub data rate exceeded.\n",
            "The notebook server will temporarily stop sending output\n",
            "to the client in order to avoid crashing it.\n",
            "To change this limit, set the config variable\n",
            "`--NotebookApp.iopub_data_rate_limit`.\n",
            "\n",
            "Current values:\n",
            "NotebookApp.iopub_data_rate_limit=1000000.0 (bytes/sec)\n",
            "NotebookApp.rate_limit_window=3.0 (secs)\n",
            "\n"
          ]
        }
      ]
    },
    {
      "cell_type": "code",
      "source": [
        "# Build a dataframe        \n",
        "emotions_df = pd.DataFrame(data=emotions, columns=['game no.', 'image'])\n",
        "print(emotions_df.head())\n",
        "print(emotions_df.tail())"
      ],
      "metadata": {
        "colab": {
          "base_uri": "https://localhost:8080/"
        },
        "id": "BTlgQuRBnZLD",
        "outputId": "24c25f58-d856-4816-cb85-8f46cb2abb14"
      },
      "execution_count": null,
      "outputs": [
        {
          "output_type": "stream",
          "name": "stdout",
          "text": [
            "  game no.                                image\n",
            "0  healthy  emotions_dataset/healthy/h11t3_.png\n",
            "1  healthy  emotions_dataset/healthy/h11t4_.png\n",
            "2  healthy  emotions_dataset/healthy/h11t5_.png\n",
            "3  healthy  emotions_dataset/healthy/h11t6_.png\n",
            "4  healthy  emotions_dataset/healthy/h12f_3.png\n",
            "        game no.                                   image\n",
            "517  schzrinopia  emotions_dataset/schzrinopia/s14pz.png\n",
            "518  schzrinopia  emotions_dataset/schzrinopia/s14t3.png\n",
            "519  schzrinopia  emotions_dataset/schzrinopia/s14t4.png\n",
            "520  schzrinopia  emotions_dataset/schzrinopia/s14t5.png\n",
            "521  schzrinopia  emotions_dataset/schzrinopia/s14t6.png\n"
          ]
        }
      ]
    },
    {
      "cell_type": "code",
      "source": [
        "# Let's check how many samples for each category are present\n",
        "print(\"Total number of emotions in the dataset: \", len(emotions_df))\n",
        "\n",
        "emotion_count = emotions_df['game no.'].value_counts()\n",
        "\n",
        "print(\"emotions in each category: \")\n",
        "print(emotion_count)"
      ],
      "metadata": {
        "colab": {
          "base_uri": "https://localhost:8080/"
        },
        "id": "CrHPEQ3RndA1",
        "outputId": "2043fb12-4791-4482-f123-cf00df5eb6ba"
      },
      "execution_count": null,
      "outputs": [
        {
          "output_type": "stream",
          "name": "stdout",
          "text": [
            "Total number of emotions in the dataset:  522\n",
            "emotions in each category: \n",
            "schzrinopia    266\n",
            "healthy        256\n",
            "Name: game no., dtype: int64\n"
          ]
        }
      ]
    },
    {
      "cell_type": "code",
      "source": [
        "path = '/content/drive/MyDrive/schzrinopiadata'\n",
        "\n",
        "\n",
        "im_size = 224\n",
        "images = []\n",
        "labels = []\n",
        "\n",
        "for i in emotion_types:\n",
        "    data_path = path + '/'+str(i)  \n",
        "    filenames = [i for i in os.listdir(data_path) ]\n",
        "   \n",
        "    for f in filenames:\n",
        "        img = cv2.imread(data_path + '/' + f)\n",
        "        img = cv2.resize(img, (im_size, im_size))\n",
        "        images.append(img)\n",
        "        labels.append(i)"
      ],
      "metadata": {
        "id": "tfZ69wnxngPV"
      },
      "execution_count": null,
      "outputs": []
    },
    {
      "cell_type": "code",
      "source": [
        "images = np.array(images)\n",
        "\n",
        "images = images.astype('float32') / 255.0\n",
        "images.shape"
      ],
      "metadata": {
        "colab": {
          "base_uri": "https://localhost:8080/"
        },
        "id": "iIsdsbRnnkqZ",
        "outputId": "fe8bbde0-c464-49de-c803-de51bd768166"
      },
      "execution_count": null,
      "outputs": [
        {
          "output_type": "execute_result",
          "data": {
            "text/plain": [
              "(522, 224, 224, 3)"
            ]
          },
          "metadata": {},
          "execution_count": 26
        }
      ]
    },
    {
      "cell_type": "code",
      "source": [
        "y = emotions_df['game no.'].values\n",
        "# #print(y[:5])\n",
        "\n",
        "y_labelencoder = LabelEncoder ()\n",
        "y = y_labelencoder.fit_transform (y)\n",
        "y = to_categorical(y, 2)\n",
        "# print (y.shape)\n",
        "y[:5]"
      ],
      "metadata": {
        "colab": {
          "base_uri": "https://localhost:8080/"
        },
        "id": "qpjX_ypHnn1z",
        "outputId": "79dc1d75-f62f-44b8-aab2-35d1b03b6d22"
      },
      "execution_count": null,
      "outputs": [
        {
          "output_type": "execute_result",
          "data": {
            "text/plain": [
              "array([[1., 0.],\n",
              "       [1., 0.],\n",
              "       [1., 0.],\n",
              "       [1., 0.],\n",
              "       [1., 0.]], dtype=float32)"
            ]
          },
          "metadata": {},
          "execution_count": 27
        }
      ]
    },
    {
      "cell_type": "code",
      "source": [
        "images, y = shuffle(images,y, random_state=1)\n",
        "\n",
        "train_x, test_x, train_y, test_y = train_test_split(images, y, test_size=0.20, random_state=415)\n",
        "\n",
        "#inpect the shape of the training and testing.\n",
        "print(train_x.shape)\n",
        "print(train_y.shape)\n",
        "print(test_x.shape)\n",
        "print(test_y.shape)"
      ],
      "metadata": {
        "colab": {
          "base_uri": "https://localhost:8080/"
        },
        "id": "roGtY4VOnrb4",
        "outputId": "6928f626-7df7-4cff-f31c-99459bdd6024"
      },
      "execution_count": null,
      "outputs": [
        {
          "output_type": "stream",
          "name": "stdout",
          "text": [
            "(417, 224, 224, 3)\n",
            "(417, 2)\n",
            "(105, 224, 224, 3)\n",
            "(105, 2)\n"
          ]
        }
      ]
    },
    {
      "cell_type": "code",
      "source": [
        "train_y.shape, test_y.shape"
      ],
      "metadata": {
        "colab": {
          "base_uri": "https://localhost:8080/"
        },
        "id": "WV7_gFHgnxsn",
        "outputId": "2d7a3f8f-412f-42ca-d1dc-b6c632c3f9a9"
      },
      "execution_count": null,
      "outputs": [
        {
          "output_type": "execute_result",
          "data": {
            "text/plain": [
              "((417, 2), (105, 2))"
            ]
          },
          "metadata": {},
          "execution_count": 29
        }
      ]
    },
    {
      "cell_type": "code",
      "source": [
        "from keras.applications.vgg16 import VGG16\n",
        "from keras.applications.vgg16 import preprocess_input\n",
        "from keras.preprocessing import image\n",
        "from keras.preprocessing.image import ImageDataGenerator"
      ],
      "metadata": {
        "id": "6a4DlVFgn1HW"
      },
      "execution_count": null,
      "outputs": []
    },
    {
      "cell_type": "code",
      "source": [
        "vgg = VGG16(input_shape=(224, 224, 3), weights='imagenet', include_top=False)"
      ],
      "metadata": {
        "id": "pGwRriJzn5RQ"
      },
      "execution_count": null,
      "outputs": []
    },
    {
      "cell_type": "code",
      "source": [
        "for layer in vgg.layers:\n",
        "  layer.trainable = False"
      ],
      "metadata": {
        "id": "FQEac8asn9Qc"
      },
      "execution_count": null,
      "outputs": []
    },
    {
      "cell_type": "code",
      "source": [
        "x = Flatten()(vgg.output)\n",
        "# x = Dense(1000, activation = 'relu')(x)\n",
        "prediction = Dense(2, activation='softmax')(x)"
      ],
      "metadata": {
        "id": "gleyCBS_oAG-"
      },
      "execution_count": null,
      "outputs": []
    },
    {
      "cell_type": "code",
      "source": [
        "model = keras.Model(inputs=vgg.input, outputs=prediction)"
      ],
      "metadata": {
        "id": "qsCq7h9RoDQG"
      },
      "execution_count": null,
      "outputs": []
    },
    {
      "cell_type": "code",
      "source": [
        "#model.compile(optimizer = \"Adam\", loss = 'BinaryCrossentropy', metrics = ['accuracy'])\n",
        "model.compile(optimizer = tensorflow.keras.optimizers.Adam(learning_rate = 0.001), loss = 'BinaryCrossentropy', metrics = ['accuracy'])\n",
        "r=model.fit(train_x, train_y, epochs = 50, batch_size = 64, validation_data = (test_x, test_y))"
      ],
      "metadata": {
        "colab": {
          "base_uri": "https://localhost:8080/"
        },
        "id": "8kh_p8I3oGud",
        "outputId": "8cff6207-0b35-4716-a625-b9a692acaf6b"
      },
      "execution_count": null,
      "outputs": [
        {
          "output_type": "stream",
          "name": "stdout",
          "text": [
            "Epoch 1/50\n",
            "7/7 [==============================] - 3s 419ms/step - loss: 0.7954 - accuracy: 0.6595 - val_loss: 0.6118 - val_accuracy: 0.7143\n",
            "Epoch 2/50\n",
            "7/7 [==============================] - 3s 397ms/step - loss: 0.5671 - accuracy: 0.7794 - val_loss: 0.5731 - val_accuracy: 0.7238\n",
            "Epoch 3/50\n",
            "7/7 [==============================] - 3s 396ms/step - loss: 0.4673 - accuracy: 0.8297 - val_loss: 0.4643 - val_accuracy: 0.7810\n",
            "Epoch 4/50\n",
            "7/7 [==============================] - 3s 401ms/step - loss: 0.3933 - accuracy: 0.8106 - val_loss: 0.4223 - val_accuracy: 0.7714\n",
            "Epoch 5/50\n",
            "7/7 [==============================] - 3s 405ms/step - loss: 0.3533 - accuracy: 0.8993 - val_loss: 0.4085 - val_accuracy: 0.7905\n",
            "Epoch 6/50\n",
            "7/7 [==============================] - 3s 408ms/step - loss: 0.3449 - accuracy: 0.8513 - val_loss: 0.3709 - val_accuracy: 0.9143\n",
            "Epoch 7/50\n",
            "7/7 [==============================] - 3s 409ms/step - loss: 0.3060 - accuracy: 0.9041 - val_loss: 0.3467 - val_accuracy: 0.8381\n",
            "Epoch 8/50\n",
            "7/7 [==============================] - 3s 408ms/step - loss: 0.2867 - accuracy: 0.9233 - val_loss: 0.3458 - val_accuracy: 0.8190\n",
            "Epoch 9/50\n",
            "7/7 [==============================] - 3s 403ms/step - loss: 0.2592 - accuracy: 0.9185 - val_loss: 0.2847 - val_accuracy: 0.9048\n",
            "Epoch 10/50\n",
            "7/7 [==============================] - 3s 399ms/step - loss: 0.2358 - accuracy: 0.9640 - val_loss: 0.2721 - val_accuracy: 0.9524\n",
            "Epoch 11/50\n",
            "7/7 [==============================] - 3s 396ms/step - loss: 0.2161 - accuracy: 0.9784 - val_loss: 0.2483 - val_accuracy: 0.9619\n",
            "Epoch 12/50\n",
            "7/7 [==============================] - 3s 390ms/step - loss: 0.2002 - accuracy: 0.9880 - val_loss: 0.2336 - val_accuracy: 0.9619\n",
            "Epoch 13/50\n",
            "7/7 [==============================] - 3s 392ms/step - loss: 0.1861 - accuracy: 0.9880 - val_loss: 0.2237 - val_accuracy: 0.9524\n",
            "Epoch 14/50\n",
            "7/7 [==============================] - 3s 389ms/step - loss: 0.1747 - accuracy: 0.9904 - val_loss: 0.2087 - val_accuracy: 0.9714\n",
            "Epoch 15/50\n",
            "7/7 [==============================] - 3s 385ms/step - loss: 0.1645 - accuracy: 0.9904 - val_loss: 0.1935 - val_accuracy: 0.9905\n",
            "Epoch 16/50\n",
            "7/7 [==============================] - 3s 384ms/step - loss: 0.1567 - accuracy: 0.9928 - val_loss: 0.1847 - val_accuracy: 0.9905\n",
            "Epoch 17/50\n",
            "7/7 [==============================] - 3s 384ms/step - loss: 0.1497 - accuracy: 0.9928 - val_loss: 0.1933 - val_accuracy: 0.9524\n",
            "Epoch 18/50\n",
            "7/7 [==============================] - 3s 381ms/step - loss: 0.1465 - accuracy: 0.9904 - val_loss: 0.1636 - val_accuracy: 1.0000\n",
            "Epoch 19/50\n",
            "7/7 [==============================] - 3s 377ms/step - loss: 0.1309 - accuracy: 0.9928 - val_loss: 0.1612 - val_accuracy: 0.9905\n",
            "Epoch 20/50\n",
            "7/7 [==============================] - 3s 380ms/step - loss: 0.1246 - accuracy: 0.9928 - val_loss: 0.1522 - val_accuracy: 0.9905\n",
            "Epoch 21/50\n",
            "7/7 [==============================] - 3s 380ms/step - loss: 0.1183 - accuracy: 0.9928 - val_loss: 0.1429 - val_accuracy: 0.9905\n",
            "Epoch 22/50\n",
            "7/7 [==============================] - 3s 377ms/step - loss: 0.1130 - accuracy: 0.9928 - val_loss: 0.1352 - val_accuracy: 1.0000\n",
            "Epoch 23/50\n",
            "7/7 [==============================] - 3s 377ms/step - loss: 0.1080 - accuracy: 0.9928 - val_loss: 0.1285 - val_accuracy: 1.0000\n",
            "Epoch 24/50\n",
            "7/7 [==============================] - 3s 377ms/step - loss: 0.1034 - accuracy: 0.9952 - val_loss: 0.1308 - val_accuracy: 0.9905\n",
            "Epoch 25/50\n",
            "7/7 [==============================] - 3s 378ms/step - loss: 0.1004 - accuracy: 0.9952 - val_loss: 0.1214 - val_accuracy: 1.0000\n",
            "Epoch 26/50\n",
            "7/7 [==============================] - 3s 381ms/step - loss: 0.0948 - accuracy: 0.9928 - val_loss: 0.1133 - val_accuracy: 1.0000\n",
            "Epoch 27/50\n",
            "7/7 [==============================] - 3s 384ms/step - loss: 0.0909 - accuracy: 0.9928 - val_loss: 0.1091 - val_accuracy: 1.0000\n",
            "Epoch 28/50\n",
            "7/7 [==============================] - 3s 381ms/step - loss: 0.0898 - accuracy: 0.9976 - val_loss: 0.1200 - val_accuracy: 0.9905\n",
            "Epoch 29/50\n",
            "7/7 [==============================] - 3s 384ms/step - loss: 0.0921 - accuracy: 0.9904 - val_loss: 0.1080 - val_accuracy: 1.0000\n",
            "Epoch 30/50\n",
            "7/7 [==============================] - 3s 387ms/step - loss: 0.0838 - accuracy: 1.0000 - val_loss: 0.1126 - val_accuracy: 0.9905\n",
            "Epoch 31/50\n",
            "7/7 [==============================] - 3s 386ms/step - loss: 0.0795 - accuracy: 0.9928 - val_loss: 0.0952 - val_accuracy: 1.0000\n",
            "Epoch 32/50\n",
            "7/7 [==============================] - 3s 387ms/step - loss: 0.0793 - accuracy: 0.9952 - val_loss: 0.0908 - val_accuracy: 1.0000\n",
            "Epoch 33/50\n",
            "7/7 [==============================] - 3s 388ms/step - loss: 0.0776 - accuracy: 0.9952 - val_loss: 0.0937 - val_accuracy: 1.0000\n",
            "Epoch 34/50\n",
            "7/7 [==============================] - 3s 391ms/step - loss: 0.0690 - accuracy: 0.9928 - val_loss: 0.0840 - val_accuracy: 1.0000\n",
            "Epoch 35/50\n",
            "7/7 [==============================] - 3s 392ms/step - loss: 0.0657 - accuracy: 0.9976 - val_loss: 0.0861 - val_accuracy: 1.0000\n",
            "Epoch 36/50\n",
            "7/7 [==============================] - 3s 391ms/step - loss: 0.0638 - accuracy: 0.9952 - val_loss: 0.0781 - val_accuracy: 1.0000\n",
            "Epoch 37/50\n",
            "7/7 [==============================] - 3s 390ms/step - loss: 0.0609 - accuracy: 0.9952 - val_loss: 0.0792 - val_accuracy: 1.0000\n",
            "Epoch 38/50\n",
            "7/7 [==============================] - 3s 393ms/step - loss: 0.0599 - accuracy: 0.9928 - val_loss: 0.0732 - val_accuracy: 1.0000\n",
            "Epoch 39/50\n",
            "7/7 [==============================] - 3s 391ms/step - loss: 0.0586 - accuracy: 0.9976 - val_loss: 0.0763 - val_accuracy: 1.0000\n",
            "Epoch 40/50\n",
            "7/7 [==============================] - 3s 392ms/step - loss: 0.0579 - accuracy: 0.9928 - val_loss: 0.0699 - val_accuracy: 1.0000\n",
            "Epoch 41/50\n",
            "7/7 [==============================] - 3s 392ms/step - loss: 0.0548 - accuracy: 0.9976 - val_loss: 0.0721 - val_accuracy: 1.0000\n",
            "Epoch 42/50\n",
            "7/7 [==============================] - 3s 392ms/step - loss: 0.0550 - accuracy: 0.9928 - val_loss: 0.0667 - val_accuracy: 1.0000\n",
            "Epoch 43/50\n",
            "7/7 [==============================] - 3s 391ms/step - loss: 0.0530 - accuracy: 1.0000 - val_loss: 0.0675 - val_accuracy: 1.0000\n",
            "Epoch 44/50\n",
            "7/7 [==============================] - 3s 389ms/step - loss: 0.0499 - accuracy: 0.9976 - val_loss: 0.0612 - val_accuracy: 1.0000\n",
            "Epoch 45/50\n",
            "7/7 [==============================] - 3s 389ms/step - loss: 0.0485 - accuracy: 1.0000 - val_loss: 0.0615 - val_accuracy: 1.0000\n",
            "Epoch 46/50\n",
            "7/7 [==============================] - 3s 388ms/step - loss: 0.0471 - accuracy: 0.9976 - val_loss: 0.0582 - val_accuracy: 1.0000\n",
            "Epoch 47/50\n",
            "7/7 [==============================] - 3s 387ms/step - loss: 0.0452 - accuracy: 1.0000 - val_loss: 0.0568 - val_accuracy: 1.0000\n",
            "Epoch 48/50\n",
            "7/7 [==============================] - 3s 390ms/step - loss: 0.0440 - accuracy: 1.0000 - val_loss: 0.0551 - val_accuracy: 1.0000\n",
            "Epoch 49/50\n",
            "7/7 [==============================] - 3s 385ms/step - loss: 0.0428 - accuracy: 1.0000 - val_loss: 0.0540 - val_accuracy: 1.0000\n",
            "Epoch 50/50\n",
            "7/7 [==============================] - 3s 385ms/step - loss: 0.0419 - accuracy: 1.0000 - val_loss: 0.0521 - val_accuracy: 1.0000\n"
          ]
        }
      ]
    },
    {
      "cell_type": "code",
      "source": [
        "# accuracies\n",
        "fig, ax1 = plt.subplots(nrows=1)\n",
        "plt.plot(r.history['accuracy'], label='train acc')\n",
        "plt.plot(r.history['val_accuracy'], label='test acc')\n",
        "plt.xlabel('No. of Epochs')\n",
        "plt.ylabel('accuracy')\n",
        "plt.legend()\n",
        "fig.savefig('plotv.png',dpi = 2000) "
      ],
      "metadata": {
        "id": "N4-R1eiDoVGM",
        "colab": {
          "base_uri": "https://localhost:8080/",
          "height": 279
        },
        "outputId": "614e3863-7b01-41a8-95b5-145877cfab05"
      },
      "execution_count": null,
      "outputs": [
        {
          "output_type": "display_data",
          "data": {
            "text/plain": [
              "<Figure size 432x288 with 1 Axes>"
            ],
            "image/png": "[encoded data removed]"
          },
          "metadata": {
            "needs_background": "light"
          }
        }
      ]
    },
    {
      "cell_type": "code",
      "source": [
        "# loss\n",
        "fig, ax1 = plt.subplots(nrows=1)\n",
        "plt.plot(r.history['loss'], label='train loss')\n",
        "plt.plot(r.history['val_loss'], label='test loss')\n",
        "plt.xlabel('no. of epochs')\n",
        "plt.ylabel('loss')\n",
        "plt.legend()\n",
        "fig.savefig('plot_1v.png',dpi = 2000) "
      ],
      "metadata": {
        "colab": {
          "base_uri": "https://localhost:8080/",
          "height": 279
        },
        "id": "VCVH-5GXlPxs",
        "outputId": "fc3317ee-3106-4244-bede-412028324e52"
      },
      "execution_count": null,
      "outputs": [
        {
          "output_type": "display_data",
          "data": {
            "text/plain": [
              "<Figure size 432x288 with 1 Axes>"
            ],
            "image/png": "[encoded data removed]"
          },
          "metadata": {
            "needs_background": "light"
          }
        }
      ]
    },
    {
      "cell_type": "code",
      "source": [],
      "metadata": {
        "id": "SwTNxGYyldYH"
      },
      "execution_count": null,
      "outputs": []
    }
  ]
}